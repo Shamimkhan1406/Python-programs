{
 "cells": [
  {
   "cell_type": "code",
   "execution_count": null,
   "id": "b4af46d9",
   "metadata": {},
   "outputs": [],
   "source": []
  },
  {
   "cell_type": "markdown",
   "id": "7a696db6",
   "metadata": {},
   "source": []
  },
  {
   "cell_type": "markdown",
   "id": "7542f086",
   "metadata": {},
   "source": []
  },
  {
   "cell_type": "code",
   "execution_count": null,
   "id": "fd84143f",
   "metadata": {},
   "outputs": [],
   "source": []
  },
  {
   "cell_type": "code",
   "execution_count": null,
   "id": "468afc47",
   "metadata": {},
   "outputs": [],
   "source": []
  }
 ],
 "metadata": {
  "language_info": {
   "name": "python"
  }
 },
 "nbformat": 4,
 "nbformat_minor": 5
}
